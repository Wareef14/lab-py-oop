{
  "cells": [
    {
      "cell_type": "markdown",
      "metadata": {
        "id": "0yTfHOWGs5yS"
      },
      "source": [
        "# LAB | Object-Oriented Programming (OOP) in Python"
      ]
    },
    {
      "cell_type": "markdown",
      "metadata": {
        "id": "A7yNKcmXs5yT"
      },
      "source": [
        "## Overview\n",
        "This exercise notebook will help you practice Object-Oriented Programming concepts in Python. You will create classes, instantiate objects, and use inheritance to build more complex structures.\n",
        "\n",
        "## Instructions\n",
        "- Complete each exercise by writing the appropriate code in the provided space.\n",
        "- Test your code to ensure it works as expected.\n",
        "- Use the hints provided if you get stuck."
      ]
    },
    {
      "cell_type": "markdown",
      "metadata": {
        "id": "a3CbBhrXs5yT"
      },
      "source": [
        "### Exercise 1: Create a Class with Instance Attributes\n",
        "Write a Python program to create a `Vehicle` class with `max_speed` and `mileage` instance attributes."
      ]
    },
    {
      "cell_type": "code",
      "source": [
        "class Vehicle:\n",
        "    def __init__(self, max_speed, mileage):\n",
        "        # Initialize instance attributes\n",
        "        self.max_speed = max_speed\n",
        "        self.mileage = mileage\n",
        "\n",
        "# Example instantiation\n",
        "modelX = Vehicle(240, 18)  # Create an instance of Vehicle with max_speed=240 and mileage=18\n",
        "\n",
        "# Print attributes\n",
        "print(modelX.max_speed, modelX.mileage)  # Expected output: 240 18"
      ],
      "metadata": {
        "colab": {
          "base_uri": "https://localhost:8080/"
        },
        "id": "lxtwJ4KsGBUS",
        "outputId": "7d53f6b6-daae-4b0c-e32f-74aff69ff7ee"
      },
      "execution_count": 8,
      "outputs": [
        {
          "output_type": "stream",
          "name": "stdout",
          "text": [
            "240 18\n"
          ]
        }
      ]
    },
    {
      "cell_type": "markdown",
      "metadata": {
        "id": "Z8LMaPtws5yU"
      },
      "source": [
        "### Exercise 2: Create a Vehicle Class Without Any Variables and Methods\n",
        "Create a `Vehicle` class without any variables or methods."
      ]
    },
    {
      "cell_type": "code",
      "execution_count": 6,
      "metadata": {
        "colab": {
          "base_uri": "https://localhost:8080/"
        },
        "id": "q6ttJlwzs5yU",
        "outputId": "d19de613-5fea-452a-97f2-934f730cf700"
      },
      "outputs": [
        {
          "output_type": "stream",
          "name": "stdout",
          "text": [
            "<class '__main__.Vehicle'>\n"
          ]
        }
      ],
      "source": [
        "# Your code here\n",
        "class Vehicle:\n",
        "    pass\n",
        "\n",
        "# Example instantiation\n",
        "my_vehicle = Vehicle()\n",
        "print(type(my_vehicle))  # Expected output: <class '__main__.Vehicle'>"
      ]
    },
    {
      "cell_type": "markdown",
      "metadata": {
        "id": "R4jgvFgZs5yV"
      },
      "source": [
        "### Exercise 3: Create a Child Class Bus\n",
        "Create a child class `Bus` that will inherit all of the variables and methods of the `Vehicle` class."
      ]
    },
    {
      "cell_type": "code",
      "source": [
        "class Bus(Vehicle):\n",
        "    def __init__(self, max_speed, mileage):\n",
        "        # Call the parent class constructor\n",
        "        super().__init__(max_speed, mileage)\n",
        "\n",
        "# Example instantiation\n",
        "school_bus = Bus(180, 25)  # Create an instance of Bus\n",
        "print(type(school_bus))  # Expected output: <class '__main__.Bus'>\n",
        "print(school_bus.max_speed, school_bus.mileage)  # Expected output: 180 25"
      ],
      "metadata": {
        "colab": {
          "base_uri": "https://localhost:8080/"
        },
        "id": "LKSA6zyHzQf7",
        "outputId": "a23331d3-8bbf-4641-c3d9-cf20a5bcb99f"
      },
      "execution_count": 9,
      "outputs": [
        {
          "output_type": "stream",
          "name": "stdout",
          "text": [
            "<class '__main__.Bus'>\n",
            "180 25\n"
          ]
        }
      ]
    },
    {
      "cell_type": "markdown",
      "metadata": {
        "id": "0T6gV1HZs5yV"
      },
      "source": [
        "### Exercise 4: Class Inheritance with Method Overriding\n",
        "Create a `Bus` class that inherits from the `Vehicle` class. Override the `fare()` method to include an extra charge for maintenance."
      ]
    },
    {
      "cell_type": "code",
      "source": [
        "# Parent class\n",
        "class Vehicle:\n",
        "    def fare(self):\n",
        "        return \"Base fare\"\n",
        "\n",
        "# Child class\n",
        "class Bus(Vehicle):\n",
        "    # Override fare method to include extra charges\n",
        "    def fare(self):\n",
        "        return \"Base fare with extra charge\"\n",
        "\n",
        "# Example instantiation\n",
        "school_bus = Bus()\n",
        "print(school_bus.fare())"
      ],
      "metadata": {
        "colab": {
          "base_uri": "https://localhost:8080/"
        },
        "id": "9SHq7Fh-0AfU",
        "outputId": "25cd1c8f-f296-42bf-9ac7-6ab3aa026b9c"
      },
      "execution_count": 11,
      "outputs": [
        {
          "output_type": "stream",
          "name": "stdout",
          "text": [
            "Base fare with extra charge\n"
          ]
        }
      ]
    },
    {
      "cell_type": "markdown",
      "metadata": {
        "id": "b-ykynkJs5yW"
      },
      "source": [
        "### Exercise 5: Define a Class Attribute\n",
        "Define a property that must have the same value for every class instance (object). Set a default value for `color`."
      ]
    },
    {
      "cell_type": "code",
      "execution_count": 12,
      "metadata": {
        "colab": {
          "base_uri": "https://localhost:8080/"
        },
        "id": "G5x-5iIUs5yW",
        "outputId": "49c3bb23-dc8c-4e9f-cdff-9452a9a11183"
      },
      "outputs": [
        {
          "output_type": "stream",
          "name": "stdout",
          "text": [
            "White\n"
          ]
        }
      ],
      "source": [
        "# Your code here\n",
        "class Vehicle:\n",
        "    color = \"White\"  # Hint: Define color as a class attribute\n",
        "\n",
        "    def __init__(self, name, max_speed, mileage):\n",
        "        self.name = name\n",
        "        self.max_speed = max_speed\n",
        "        self.mileage = mileage\n",
        "\n",
        "school_bus = Vehicle(\"School Volvo\", 180, 12)\n",
        "print(school_bus.color)  # Expected output: \"White\""
      ]
    },
    {
      "cell_type": "markdown",
      "metadata": {
        "id": "hMxL2OKxs5yW"
      },
      "source": [
        "### Exercise 6: Class Inheritance with Default Fare Calculation\n",
        "Create a `Bus` child class that inherits from the `Vehicle` class. The default fare charge of any vehicle is `seating capacity * 100`. If the vehicle is a bus instance, add an extra 10% on the full fare as a maintenance charge."
      ]
    },
    {
      "cell_type": "code",
      "execution_count": 13,
      "metadata": {
        "colab": {
          "base_uri": "https://localhost:8080/"
        },
        "id": "AW0h19ebs5yW",
        "outputId": "6b52e8c6-ce24-46dc-965b-7ffc846d5c3b"
      },
      "outputs": [
        {
          "output_type": "stream",
          "name": "stdout",
          "text": [
            "Total Bus fare is: 5500.0\n"
          ]
        }
      ],
      "source": [
        "# Parent class\n",
        "class Vehicle:\n",
        "    def __init__(self, name, mileage, capacity):\n",
        "        self.name = name\n",
        "        self.mileage = mileage\n",
        "        self.capacity = capacity\n",
        "\n",
        "    def fare(self):\n",
        "        return self.capacity * 100\n",
        "\n",
        "# Child class (Bus) that inherits from Vehicle\n",
        "class Bus(Vehicle):\n",
        "    # Override fare method to include maintenance charge\n",
        "    def fare(self):\n",
        "        base_fare = super().fare()  # Get the base fare from the parent class\n",
        "        maintenance_charge = 0.1 * base_fare  # 10% extra charge for maintenance\n",
        "        return base_fare + maintenance_charge\n",
        "\n",
        "# Example instantiation\n",
        "school_bus = Bus(\"School Volvo\", 12, 50)\n",
        "\n",
        "# Print the total fare with the maintenance charge\n",
        "print(\"Total Bus fare is:\", school_bus.fare())  # Expected output: Total Bus fare is: 5500.0"
      ]
    },
    {
      "cell_type": "markdown",
      "metadata": {
        "id": "4mBXz_54s5yW"
      },
      "source": [
        "### Exercise 7: Check Type of an Object\n",
        "Write a program to determine which class a given object belongs to."
      ]
    },
    {
      "cell_type": "code",
      "execution_count": 14,
      "metadata": {
        "colab": {
          "base_uri": "https://localhost:8080/"
        },
        "id": "wNUQu3wIs5yW",
        "outputId": "1de60ac1-c10c-4a6a-85b6-accd2ca01129"
      },
      "outputs": [
        {
          "output_type": "stream",
          "name": "stdout",
          "text": [
            "<class '__main__.Bus'>\n"
          ]
        }
      ],
      "source": [
        "# Your code here\n",
        "school_bus = Bus(\"School Volvo\", 12, 50)\n",
        "print(type(school_bus))  # Expected output: <class '__main__.Bus'>"
      ]
    },
    {
      "cell_type": "markdown",
      "metadata": {
        "id": "xIHU6SXbs5yX"
      },
      "source": [
        "### Exercise 8: Check Instance of Class\n",
        "Determine if `school_bus` is also an instance of the `Vehicle` class.\n"
      ]
    },
    {
      "cell_type": "code",
      "execution_count": 15,
      "metadata": {
        "colab": {
          "base_uri": "https://localhost:8080/"
        },
        "id": "F5KzHpyjs5yX",
        "outputId": "772f55a0-4864-45a0-f8cc-9dc11c2bf5f6"
      },
      "outputs": [
        {
          "output_type": "stream",
          "name": "stdout",
          "text": [
            "True\n"
          ]
        }
      ],
      "source": [
        "# Your code here\n",
        "print(isinstance(school_bus, Vehicle))  # Expected output: True or False based on inheritance"
      ]
    },
    {
      "cell_type": "markdown",
      "metadata": {
        "id": "syhfP-aRs5yX"
      },
      "source": [
        "### Exercise Completion  \n",
        "Once you have completed all exercises:\n",
        "- Review your solutions.\n",
        "- Ensure your code is well-documented with comments explaining your logic.\n",
        "- Save your notebook for submission or further review.\n",
        "\n",
        "Happy coding! Enjoy exploring Object-Oriented Programming with Python!\n"
      ]
    }
  ],
  "metadata": {
    "kernelspec": {
      "display_name": ".venv",
      "language": "python",
      "name": "python3"
    },
    "language_info": {
      "codemirror_mode": {
        "name": "ipython",
        "version": 3
      },
      "file_extension": ".py",
      "mimetype": "text/x-python",
      "name": "python",
      "nbconvert_exporter": "python",
      "pygments_lexer": "ipython3",
      "version": "3.8.0"
    },
    "colab": {
      "provenance": []
    }
  },
  "nbformat": 4,
  "nbformat_minor": 0
}